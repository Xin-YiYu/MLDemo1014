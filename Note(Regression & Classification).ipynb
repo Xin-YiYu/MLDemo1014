{
 "cells": [
  {
   "cell_type": "markdown",
   "metadata": {
    "collapsed": true
   },
   "source": [
    "<font size=\"4\">$$ \\left\\{\n",
    "\\begin{aligned}\n",
    "&Regression&&MSE&&均方誤差\\\\\n",
    "&Classification&&gini&&Entropy熵(亂度)\n",
    "\\end{aligned}\n",
    "\\right.\n",
    "$$"
   ]
  },
  {
   "cell_type": "markdown",
   "metadata": {},
   "source": [
    "<font size=\"4\">$$\n",
    "\\begin{aligned}\n",
    "MSE=\\sum(每一點-平均)^2\n",
    "\\\\\n",
    "距離平均越進，預測越準\\\\\n",
    "MSE\\downarrow，整齊程度\\uparrow\\\\\n",
    "\\end{aligned}\n",
    "$$"
   ]
  },
  {
   "cell_type": "markdown",
   "metadata": {},
   "source": [
    "<font size=\"4\"><font color=\"#dd0000\">$$\n",
    "\\begin{aligned}\n",
    "回歸有一個問題:&無法衡量多個模型\\\\\n",
    "\\end{aligned}\n",
    "$$"
   ]
  },
  {
   "cell_type": "markdown",
   "metadata": {},
   "source": [
    "<font size=\"4\"><font color=\"#dd0000\">$$\n",
    "\\begin{aligned}\n",
    "\\rightarrow \\frac ab&=\\frac {\\sum(pre-真實)^2}{\\sum(平均-真實)^2}&(normalize)\\\\\n",
    "a&:誤差值\\\\\n",
    "b&:總和\\\\\n",
    "\\end{aligned}\n",
    "$$"
   ]
  },
  {
   "cell_type": "markdown",
   "metadata": {},
   "source": [
    "<font size=\"4\"><font color=\"#006600\">$$特別點\\left\\{\n",
    "\\begin{aligned}\n",
    "&\\frac ab=0\\rightarrow a=0\\rightarrow pre=真實(好)\\\\\n",
    "&\\frac ab=1\\rightarrow a=b\\rightarrow pre=平均(爛)\\\\\n",
    "\\end{aligned}\n",
    "\\right.\n",
    "$$"
   ]
  },
  {
   "cell_type": "markdown",
   "metadata": {},
   "source": [
    "<font size=\"4\"><font color=\"#006600\">$$\n",
    "\\begin{aligned}\n",
    "r^2&score=1-\\frac ab=\\left\\{ \n",
    "\\begin{aligned}\n",
    "1&(好)\\\\\n",
    "0&(爛)\n",
    "\\end{aligned}\n",
    "\\right.\n",
    "\\end{aligned}\n",
    "$$"
   ]
  }
 ],
 "metadata": {
  "kernelspec": {
   "display_name": "Python 3",
   "language": "python",
   "name": "python3"
  },
  "language_info": {
   "codemirror_mode": {
    "name": "ipython",
    "version": 3
   },
   "file_extension": ".py",
   "mimetype": "text/x-python",
   "name": "python",
   "nbconvert_exporter": "python",
   "pygments_lexer": "ipython3",
   "version": "3.7.0"
  }
 },
 "nbformat": 4,
 "nbformat_minor": 1
}
